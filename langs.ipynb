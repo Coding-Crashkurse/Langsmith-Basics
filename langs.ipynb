{
 "cells": [
  {
   "cell_type": "code",
   "execution_count": 1,
   "metadata": {},
   "outputs": [
    {
     "name": "stderr",
     "output_type": "stream",
     "text": [
      "Das System kann den angegebenen Pfad nicht finden.\n",
      "Das System kann den angegebenen Pfad nicht finden.\n",
      "Das System kann den angegebenen Pfad nicht finden.\n"
     ]
    }
   ],
   "source": [
    "!pip install langsmith > /dev/null\n",
    "!pip install langchain > /dev/null\n",
    "!pip install openai > /dev/null"
   ]
  },
  {
   "cell_type": "code",
   "execution_count": 2,
   "metadata": {},
   "outputs": [
    {
     "data": {
      "text/plain": [
       "True"
      ]
     },
     "execution_count": 2,
     "metadata": {},
     "output_type": "execute_result"
    }
   ],
   "source": [
    "from dotenv import load_dotenv\n",
    "load_dotenv()"
   ]
  },
  {
   "cell_type": "code",
   "execution_count": 3,
   "metadata": {},
   "outputs": [
    {
     "data": {
      "text/plain": [
       "'Hello! How can I assist you today?'"
      ]
     },
     "execution_count": 3,
     "metadata": {},
     "output_type": "execute_result"
    }
   ],
   "source": [
    "from langchain.chat_models import ChatOpenAI\n",
    "\n",
    "llm = ChatOpenAI()\n",
    "llm.predict(\"How are you?\")"
   ]
  },
  {
   "cell_type": "markdown",
   "metadata": {},
   "source": [
    "### Using Langsmith"
   ]
  },
  {
   "cell_type": "code",
   "execution_count": 2,
   "metadata": {},
   "outputs": [
    {
     "ename": "NameError",
     "evalue": "name 'llm' is not defined",
     "output_type": "error",
     "traceback": [
      "\u001b[1;31m---------------------------------------------------------------------------\u001b[0m",
      "\u001b[1;31mNameError\u001b[0m                                 Traceback (most recent call last)",
      "Cell \u001b[1;32mIn[2], line 4\u001b[0m\n\u001b[0;32m      1\u001b[0m \u001b[39mfrom\u001b[39;00m \u001b[39mlangchain\u001b[39;00m\u001b[39m.\u001b[39;00m\u001b[39mcallbacks\u001b[39;00m\u001b[39m.\u001b[39;00m\u001b[39mtracers\u001b[39;00m \u001b[39mimport\u001b[39;00m LangChainTracer\n\u001b[0;32m      3\u001b[0m tracer \u001b[39m=\u001b[39m LangChainTracer(project_name\u001b[39m=\u001b[39m\u001b[39m\"\u001b[39m\u001b[39mMy Project\u001b[39m\u001b[39m\"\u001b[39m)\n\u001b[1;32m----> 4\u001b[0m llm\u001b[39m.\u001b[39mpredict(\u001b[39m\"\u001b[39m\u001b[39mHow many people live in USA?\u001b[39m\u001b[39m\"\u001b[39m, callbacks\u001b[39m=\u001b[39m[tracer])\n",
      "\u001b[1;31mNameError\u001b[0m: name 'llm' is not defined"
     ]
    }
   ],
   "source": [
    "from langchain.callbacks.tracers import LangChainTracer\n",
    "\n",
    "tracer = LangChainTracer(project_name=\"My Project\")\n",
    "llm.predict(\"How many people live in USA?\", callbacks=[tracer])"
   ]
  },
  {
   "cell_type": "code",
   "execution_count": null,
   "metadata": {},
   "outputs": [],
   "source": [
    "from langchain.callbacks import tracing_v2_enabled\n",
    "\n",
    "with tracing_v2_enabled(project_name=\"My Project\"):\n",
    "    llm.predict(\"How many people live in USA?\")"
   ]
  },
  {
   "cell_type": "code",
   "execution_count": null,
   "metadata": {},
   "outputs": [
    {
     "data": {
      "text/plain": [
       "{'input': 'Hello, World!', 'text': 'Hello, World!'}"
      ]
     },
     "execution_count": 4,
     "metadata": {},
     "output_type": "execute_result"
    }
   ],
   "source": [
    "from langchain.chains import LLMChain\n",
    "from langchain.chat_models import ChatOpenAI\n",
    "from langchain.prompts import PromptTemplate\n",
    "\n",
    "llm = ChatOpenAI(temperature=0, tags=[\"my-llm-tag\"])\n",
    "prompt = PromptTemplate.from_template(\"Say {input}\")\n",
    "chain = LLMChain(llm=llm, prompt=prompt, tags=[\"one-tag\", \"another-tag\"])\n",
    "\n",
    "chain(\"Hello, World!\", tags=[\"shared-tags\"])"
   ]
  },
  {
   "cell_type": "code",
   "execution_count": null,
   "metadata": {},
   "outputs": [],
   "source": [
    "from langchain.callbacks.manager import (\n",
    "    trace_as_chain_group\n",
    ")\n",
    "\n",
    "with trace_as_chain_group(\"my_group_name\") as group_manager:\n",
    "    pass\n",
    "\n",
    "from langchain.chat_models import ChatOpenAI\n",
    "from langchain.chains import LLMChain\n",
    "from langchain.prompts import PromptTemplate\n",
    "\n",
    "llm = ChatOpenAI(temperature=0.9)\n",
    "prompt = PromptTemplate(\n",
    "    input_variables=[\"question\"],\n",
    "    template=\"What is the answer to {question}?\",\n",
    ")\n",
    "chain = LLMChain(llm=llm, prompt=prompt)\n",
    "with trace_as_chain_group(\"my_group\") as group_manager:\n",
    "    chain.run(question=\"What is your name?\", callbacks=group_manager)\n",
    "    chain.run(question=\"What is your quest?\", callbacks=group_manager)\n",
    "    chain.run(question=\"What is your favorite color?\", callbacks=group_manager)"
   ]
  },
  {
   "cell_type": "code",
   "execution_count": null,
   "metadata": {},
   "outputs": [
    {
     "data": {
      "text/plain": [
       "<generator object Client.list_runs at 0x000001DE46F7DE70>"
      ]
     },
     "execution_count": 5,
     "metadata": {},
     "output_type": "execute_result"
    }
   ],
   "source": [
    "from langsmith import Client\n",
    "\n",
    "client = Client()\n",
    "project_runs = client.list_runs(project_name=\"default\")\n",
    "project_runs"
   ]
  },
  {
   "cell_type": "code",
   "execution_count": null,
   "metadata": {},
   "outputs": [
    {
     "data": {
      "text/plain": [
       "<generator object Client.list_runs at 0x000001DE46F7E150>"
      ]
     },
     "execution_count": 6,
     "metadata": {},
     "output_type": "execute_result"
    }
   ],
   "source": [
    "from datetime import datetime, timedelta\n",
    "\n",
    "todays_runs = client.list_runs(\n",
    "    start_time=datetime.now() - timedelta(days=1),\n",
    "    run_type=\"llm\",\n",
    ")\n",
    "todays_runs\n"
   ]
  },
  {
   "cell_type": "code",
   "execution_count": null,
   "metadata": {},
   "outputs": [
    {
     "name": "stdout",
     "output_type": "stream",
     "text": [
      "id=UUID('77c6d7e9-4b96-4206-9547-32dd58d0d199') name='ChatOpenAI' start_time=datetime.datetime(2023, 8, 15, 4, 50, 8, 94911) run_type='llm' end_time=datetime.datetime(2023, 8, 15, 4, 50, 8, 727853) extra={'options': {'stop': None}, 'runtime': {'library': 'langchain', 'runtime': 'python', 'platform': 'Windows-10-10.0.19045-SP0', 'sdk_version': '0.0.22', 'library_version': '0.0.264', 'runtime_version': '3.11.0', 'langchain_version': '0.0.264'}, 'total_tokens': 16, 'prompt_tokens': 12, 'completion_tokens': 4, 'invocation_params': {'n': 1, 'stop': None, '_type': 'openai-chat', 'model': 'gpt-3.5-turbo', 'stream': False, 'max_tokens': None, 'model_name': 'gpt-3.5-turbo', 'temperature': 0.0, 'request_timeout': None}} error=None serialized=None events=[{'name': 'start', 'time': '2023-08-15T04:50:08.094911'}, {'name': 'end', 'time': '2023-08-15T04:50:08.727853'}] inputs={'messages': [{'id': ['langchain', 'schema', 'messages', 'HumanMessage'], 'lc': 1, 'type': 'constructor', 'kwargs': {'content': 'Say Hello, World!'}}]} outputs={'run': None, 'llm_output': {'model_name': 'gpt-3.5-turbo'}, 'generations': [{'text': 'Hello, World!', 'message': {'id': ['langchain', 'schema', 'messages', 'AIMessage'], 'lc': 1, 'type': 'constructor', 'kwargs': {'content': 'Hello, World!', 'additional_kwargs': {}}}, 'generation_info': {'finish_reason': 'stop'}}]} reference_example_id=None parent_run_id=UUID('ce824f5b-5607-4042-9ced-00c493209e43') tags=['shared-tags', 'my-llm-tag'] execution_order=2 session_id=UUID('3203b694-07c1-4e06-b5d6-261538db5874') child_run_ids=None child_runs=None feedback_stats=None app_path='/projects/p/3203b694-07c1-4e06-b5d6-261538db5874/r/77c6d7e9-4b96-4206-9547-32dd58d0d199'\n",
      "id=UUID('5dd9c16d-2f14-4bbb-a7e4-e0e3e3976b21') name='ChatOpenAI' start_time=datetime.datetime(2023, 8, 15, 4, 44, 39, 593016) run_type='llm' end_time=datetime.datetime(2023, 8, 15, 4, 44, 40, 512647) extra={'options': {'stop': None}, 'runtime': {'library': 'langchain', 'runtime': 'python', 'platform': 'Windows-10-10.0.19045-SP0', 'sdk_version': '0.0.22', 'library_version': '0.0.264', 'runtime_version': '3.11.0', 'langchain_version': '0.0.264'}, 'total_tokens': 20, 'prompt_tokens': 11, 'completion_tokens': 9, 'invocation_params': {'n': 1, 'stop': None, '_type': 'openai-chat', 'model': 'gpt-3.5-turbo', 'stream': False, 'max_tokens': None, 'model_name': 'gpt-3.5-turbo', 'temperature': 0.7, 'request_timeout': None}} error=None serialized=None events=[{'name': 'start', 'time': '2023-08-15T04:44:39.593016'}, {'name': 'end', 'time': '2023-08-15T04:44:40.512647'}] inputs={'messages': [{'id': ['langchain', 'schema', 'messages', 'HumanMessage'], 'lc': 1, 'type': 'constructor', 'kwargs': {'content': 'Hello, world!'}}]} outputs={'run': None, 'llm_output': {'model_name': 'gpt-3.5-turbo'}, 'generations': [{'text': 'Hello! How can I assist you today?', 'message': {'id': ['langchain', 'schema', 'messages', 'AIMessage'], 'lc': 1, 'type': 'constructor', 'kwargs': {'content': 'Hello! How can I assist you today?', 'additional_kwargs': {}}}, 'generation_info': {'finish_reason': 'stop'}}]} reference_example_id=None parent_run_id=None tags=[] execution_order=1 session_id=UUID('3203b694-07c1-4e06-b5d6-261538db5874') child_run_ids=None child_runs=None feedback_stats=None app_path='/projects/p/3203b694-07c1-4e06-b5d6-261538db5874/r/5dd9c16d-2f14-4bbb-a7e4-e0e3e3976b21'\n",
      "id=UUID('baf185ed-c093-4722-914b-df2cd46f3979') name='ChatOpenAI' start_time=datetime.datetime(2023, 8, 14, 18, 36, 3, 332620) run_type='llm' end_time=datetime.datetime(2023, 8, 14, 18, 36, 4, 357122) extra={'options': {'stop': None}, 'runtime': {'library': 'langchain', 'runtime': 'python', 'platform': 'Windows-10-10.0.19045-SP0', 'sdk_version': '0.0.22', 'library_version': '0.0.264', 'runtime_version': '3.11.0', 'langchain_version': '0.0.264'}, 'total_tokens': 20, 'prompt_tokens': 11, 'completion_tokens': 9, 'invocation_params': {'n': 1, 'stop': None, '_type': 'openai-chat', 'model': 'gpt-3.5-turbo', 'stream': False, 'max_tokens': None, 'model_name': 'gpt-3.5-turbo', 'temperature': 0.7, 'request_timeout': None}} error=None serialized=None events=[{'name': 'start', 'time': '2023-08-14T18:36:03.332620'}, {'name': 'end', 'time': '2023-08-14T18:36:04.357122'}] inputs={'messages': [{'id': ['langchain', 'schema', 'messages', 'HumanMessage'], 'lc': 1, 'type': 'constructor', 'kwargs': {'content': 'Hello, world!'}}]} outputs={'run': None, 'llm_output': {'model_name': 'gpt-3.5-turbo'}, 'generations': [{'text': 'Hello! How can I assist you today?', 'message': {'id': ['langchain', 'schema', 'messages', 'AIMessage'], 'lc': 1, 'type': 'constructor', 'kwargs': {'content': 'Hello! How can I assist you today?', 'additional_kwargs': {}}}, 'generation_info': {'finish_reason': 'stop'}}]} reference_example_id=None parent_run_id=None tags=[] execution_order=1 session_id=UUID('3203b694-07c1-4e06-b5d6-261538db5874') child_run_ids=None child_runs=None feedback_stats=None app_path='/projects/p/3203b694-07c1-4e06-b5d6-261538db5874/r/baf185ed-c093-4722-914b-df2cd46f3979'\n",
      "id=UUID('0d29e333-4601-4bbf-9b30-fe65c32f31f0') name='ChatOpenAI' start_time=datetime.datetime(2023, 8, 14, 18, 33, 10, 897079) run_type='llm' end_time=datetime.datetime(2023, 8, 14, 18, 33, 11, 795404) extra={'options': {'stop': None}, 'runtime': {'library': 'langchain', 'runtime': 'python', 'platform': 'Windows-10-10.0.19045-SP0', 'sdk_version': '0.0.22', 'library_version': '0.0.264', 'runtime_version': '3.11.0', 'langchain_version': '0.0.264'}, 'total_tokens': 20, 'prompt_tokens': 11, 'completion_tokens': 9, 'invocation_params': {'n': 1, 'stop': None, '_type': 'openai-chat', 'model': 'gpt-3.5-turbo', 'stream': False, 'max_tokens': None, 'model_name': 'gpt-3.5-turbo', 'temperature': 0.7, 'request_timeout': None}} error=None serialized=None events=[{'name': 'start', 'time': '2023-08-14T18:33:10.897079'}, {'name': 'end', 'time': '2023-08-14T18:33:11.795404'}] inputs={'messages': [{'id': ['langchain', 'schema', 'messages', 'HumanMessage'], 'lc': 1, 'type': 'constructor', 'kwargs': {'content': 'Hello, world!'}}]} outputs={'run': None, 'llm_output': {'model_name': 'gpt-3.5-turbo'}, 'generations': [{'text': 'Hello! How can I assist you today?', 'message': {'id': ['langchain', 'schema', 'messages', 'AIMessage'], 'lc': 1, 'type': 'constructor', 'kwargs': {'content': 'Hello! How can I assist you today?', 'additional_kwargs': {}}}, 'generation_info': {'finish_reason': 'stop'}}]} reference_example_id=None parent_run_id=None tags=[] execution_order=1 session_id=UUID('3203b694-07c1-4e06-b5d6-261538db5874') child_run_ids=None child_runs=None feedback_stats=None app_path='/projects/p/3203b694-07c1-4e06-b5d6-261538db5874/r/0d29e333-4601-4bbf-9b30-fe65c32f31f0'\n"
     ]
    }
   ],
   "source": [
    "for run in todays_runs:\n",
    "    print(run)"
   ]
  },
  {
   "cell_type": "markdown",
   "metadata": {},
   "source": [
    "### Metadata\n",
    "Add metadata to filter runs later, for example for making an A/B test\n"
   ]
  },
  {
   "cell_type": "code",
   "execution_count": null,
   "metadata": {},
   "outputs": [
    {
     "data": {
      "text/plain": [
       "{'input': 'What is the meaning of life?',\n",
       " 'text': \"The meaning of life is a philosophical and existential question that has been debated by scholars, thinkers, and individuals throughout history. Different people and cultures have offered various interpretations and perspectives on this question. Some believe that the meaning of life is to seek happiness and fulfillment, while others argue it is to find purpose and make a positive impact in the world. Ultimately, the answer to this question may vary depending on one's personal beliefs, values, and experiences.\"}"
      ]
     },
     "execution_count": 8,
     "metadata": {},
     "output_type": "execute_result"
    }
   ],
   "source": [
    "from langchain.chat_models import ChatOpenAI\n",
    "from langchain.chains import LLMChain\n",
    "\n",
    "chat_model = ChatOpenAI()\n",
    "chain = LLMChain.from_string(llm=chat_model, template=\"What's the answer to {input}?\")\n",
    "\n",
    "chain({\"input\": \"What is the meaning of life?\"}, metadata={\"variant\": \"abc123\"})"
   ]
  },
  {
   "cell_type": "code",
   "execution_count": null,
   "metadata": {},
   "outputs": [
    {
     "name": "stdout",
     "output_type": "stream",
     "text": [
      "[Run(id=UUID('acab4684-cf04-4b5f-ac7d-a071e99b0544'), name='ChatOpenAI', start_time=datetime.datetime(2023, 8, 15, 6, 32, 41, 712821), run_type='llm', end_time=datetime.datetime(2023, 8, 15, 6, 32, 45, 102391), extra={'options': {'stop': None}, 'runtime': {'library': 'langchain', 'runtime': 'python', 'platform': 'Windows-10-10.0.19045-SP0', 'sdk_version': '0.0.22', 'library_version': '0.0.264', 'runtime_version': '3.11.0', 'langchain_version': '0.0.264'}, 'metadata': {'variant': 'abc123'}, 'total_tokens': 109, 'prompt_tokens': 19, 'completion_tokens': 90, 'invocation_params': {'n': 1, 'stop': None, '_type': 'openai-chat', 'model': 'gpt-3.5-turbo', 'stream': False, 'max_tokens': None, 'model_name': 'gpt-3.5-turbo', 'temperature': 0.7, 'request_timeout': None}}, error=None, serialized=None, events=[{'name': 'start', 'time': '2023-08-15T06:32:41.712821'}, {'name': 'end', 'time': '2023-08-15T06:32:45.102391'}], inputs={'messages': [{'id': ['langchain', 'schema', 'messages', 'HumanMessage'], 'lc': 1, 'type': 'constructor', 'kwargs': {'content': \"What's the answer to What is the meaning of life??\"}}]}, outputs={'run': None, 'llm_output': {'model_name': 'gpt-3.5-turbo'}, 'generations': [{'text': \"The meaning of life is a philosophical and existential question that has been debated by scholars, thinkers, and individuals throughout history. Different people and cultures have offered various interpretations and perspectives on this question. Some believe that the meaning of life is to seek happiness and fulfillment, while others argue it is to find purpose and make a positive impact in the world. Ultimately, the answer to this question may vary depending on one's personal beliefs, values, and experiences.\", 'message': {'id': ['langchain', 'schema', 'messages', 'AIMessage'], 'lc': 1, 'type': 'constructor', 'kwargs': {'content': \"The meaning of life is a philosophical and existential question that has been debated by scholars, thinkers, and individuals throughout history. Different people and cultures have offered various interpretations and perspectives on this question. Some believe that the meaning of life is to seek happiness and fulfillment, while others argue it is to find purpose and make a positive impact in the world. Ultimately, the answer to this question may vary depending on one's personal beliefs, values, and experiences.\", 'additional_kwargs': {}}}, 'generation_info': {'finish_reason': 'stop'}}]}, reference_example_id=None, parent_run_id=UUID('d61857a5-5966-4e89-b834-032ebb123127'), tags=[], execution_order=2, session_id=UUID('3203b694-07c1-4e06-b5d6-261538db5874'), child_run_ids=None, child_runs=None, feedback_stats=None, app_path='/projects/p/3203b694-07c1-4e06-b5d6-261538db5874/r/acab4684-cf04-4b5f-ac7d-a071e99b0544'), Run(id=UUID('d61857a5-5966-4e89-b834-032ebb123127'), name='LLMChain', start_time=datetime.datetime(2023, 8, 15, 6, 32, 41, 710774), run_type='chain', end_time=datetime.datetime(2023, 8, 15, 6, 32, 45, 103253), extra={'runtime': {'library': 'langchain', 'runtime': 'python', 'platform': 'Windows-10-10.0.19045-SP0', 'sdk_version': '0.0.22', 'library_version': '0.0.264', 'runtime_version': '3.11.0', 'langchain_version': '0.0.264'}, 'metadata': {'variant': 'abc123'}, 'total_tokens': 109, 'prompt_tokens': 19, 'completion_tokens': 90}, error=None, serialized=None, events=[{'name': 'start', 'time': '2023-08-15T06:32:41.710774'}, {'name': 'end', 'time': '2023-08-15T06:32:45.103253'}], inputs={'input': 'What is the meaning of life?'}, outputs={'text': \"The meaning of life is a philosophical and existential question that has been debated by scholars, thinkers, and individuals throughout history. Different people and cultures have offered various interpretations and perspectives on this question. Some believe that the meaning of life is to seek happiness and fulfillment, while others argue it is to find purpose and make a positive impact in the world. Ultimately, the answer to this question may vary depending on one's personal beliefs, values, and experiences.\"}, reference_example_id=None, parent_run_id=None, tags=[], execution_order=1, session_id=UUID('3203b694-07c1-4e06-b5d6-261538db5874'), child_run_ids=[UUID('acab4684-cf04-4b5f-ac7d-a071e99b0544')], child_runs=None, feedback_stats=None, app_path='/projects/p/3203b694-07c1-4e06-b5d6-261538db5874/r/d61857a5-5966-4e89-b834-032ebb123127')]\n"
     ]
    }
   ],
   "source": [
    "from langsmith import Client\n",
    "\n",
    "client = Client()\n",
    "runs = list(client.list_runs(\n",
    "    filter='has(metadata, \\'{\"variant\": \"abc123\"}\\')',\n",
    "))\n",
    "print(list(runs))"
   ]
  }
 ],
 "metadata": {
  "kernelspec": {
   "display_name": "Python 3",
   "language": "python",
   "name": "python3"
  },
  "language_info": {
   "codemirror_mode": {
    "name": "ipython",
    "version": 3
   },
   "file_extension": ".py",
   "mimetype": "text/x-python",
   "name": "python",
   "nbconvert_exporter": "python",
   "pygments_lexer": "ipython3",
   "version": "3.11.0"
  },
  "orig_nbformat": 4
 },
 "nbformat": 4,
 "nbformat_minor": 2
}
